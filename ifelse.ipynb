{
 "cells": [
  {
   "cell_type": "markdown",
   "id": "b5dc84fe",
   "metadata": {},
   "source": [
    "# Question: 1\n",
    "The program should use the conditional operator to determine which\n",
    "number is the smaller and which is the larger."
   ]
  },
  {
   "cell_type": "code",
   "execution_count": 2,
   "id": "8b5e9db2",
   "metadata": {},
   "outputs": [
    {
     "name": "stdout",
     "output_type": "stream",
     "text": [
      "please enter the value: \n",
      "23\n",
      "please enter the value: \n",
      "546\n",
      "y is greater than x\n"
     ]
    }
   ],
   "source": [
    "x=int(input(\"please enter the value of x: \\n\"))\n",
    "y=int(input(\"please enter the value of y: \\n\"))\n",
    "if x>y:\n",
    "    print(\"x is greater than y\")\n",
    "else :\n",
    "    print(\"y is greater than x\")"
   ]
  },
  {
   "cell_type": "markdown",
   "id": "1ee262c6",
   "metadata": {},
   "source": [
    "# Question: 2\n",
    "a program that asks the user to enter a number within the range of 1 through 10. Use a conditional statement to display\n",
    "the Roman numeral version of that number."
   ]
  },
  {
   "cell_type": "code",
   "execution_count": 6,
   "id": "3c621195",
   "metadata": {},
   "outputs": [
    {
     "name": "stdout",
     "output_type": "stream",
     "text": [
      "Please enter value 1-10: \n",
      "5\n",
      "V\n"
     ]
    }
   ],
   "source": [
    "x=int(input(\"Please enter value 1-10: \\n\"))\n",
    "if x>10 and x>0:\n",
    "    print (\"Wrong Input\")\n",
    "else:\n",
    "    if x==1:\n",
    "        print (\"I\")\n",
    "    if x==2:\n",
    "        print (\"II\")\n",
    "    if x==3:\n",
    "        print (\"III\")\n",
    "    if x==4:\n",
    "        print (\"VI\")\n",
    "    if x==5:\n",
    "        print (\"V\")\n",
    "    if x==6:\n",
    "        print (\"VI\")\n",
    "    if x==7:\n",
    "        print (\"VII\")\n",
    "    if x==8:\n",
    "        print (\"VIII\")\n",
    "    if x==9:\n",
    "        print (\"IX\")\n",
    "    if x==10:\n",
    "        print (\"X\")"
   ]
  },
  {
   "cell_type": "markdown",
   "id": "272ea870",
   "metadata": {},
   "source": [
    "# Question: 3\n"
   ]
  },
  {
   "cell_type": "code",
   "execution_count": 1,
   "id": "561ba90b",
   "metadata": {},
   "outputs": [
    {
     "name": "stdout",
     "output_type": "stream",
     "text": [
      "Enter the Date: \n",
      "\n"
     ]
    },
    {
     "ename": "ValueError",
     "evalue": "invalid literal for int() with base 10: ''",
     "output_type": "error",
     "traceback": [
      "\u001b[1;31m---------------------------------------------------------------------------\u001b[0m",
      "\u001b[1;31mValueError\u001b[0m                                Traceback (most recent call last)",
      "\u001b[1;32m~\\AppData\\Local\\Temp/ipykernel_14196/1102874590.py\u001b[0m in \u001b[0;36m<module>\u001b[1;34m\u001b[0m\n\u001b[1;32m----> 1\u001b[1;33m \u001b[0mdate\u001b[0m \u001b[1;33m=\u001b[0m \u001b[0mint\u001b[0m \u001b[1;33m(\u001b[0m\u001b[0minput\u001b[0m \u001b[1;33m(\u001b[0m\u001b[1;34m\"Enter the Date: \\n\"\u001b[0m\u001b[1;33m)\u001b[0m\u001b[1;33m)\u001b[0m\u001b[1;33m\u001b[0m\u001b[1;33m\u001b[0m\u001b[0m\n\u001b[0m\u001b[0;32m      2\u001b[0m \u001b[0mmonth\u001b[0m \u001b[1;33m=\u001b[0m \u001b[0mint\u001b[0m \u001b[1;33m(\u001b[0m\u001b[0minput\u001b[0m \u001b[1;33m(\u001b[0m\u001b[1;34m\"Enter the Month: \\n\"\u001b[0m\u001b[1;33m)\u001b[0m\u001b[1;33m)\u001b[0m\u001b[1;33m\u001b[0m\u001b[1;33m\u001b[0m\u001b[0m\n\u001b[0;32m      3\u001b[0m \u001b[0myear\u001b[0m \u001b[1;33m=\u001b[0m \u001b[0mint\u001b[0m \u001b[1;33m(\u001b[0m\u001b[0minput\u001b[0m \u001b[1;33m(\u001b[0m\u001b[1;34m\"Enter the year(only last 2 digit): \\n\"\u001b[0m\u001b[1;33m)\u001b[0m\u001b[1;33m)\u001b[0m\u001b[1;33m\u001b[0m\u001b[1;33m\u001b[0m\u001b[0m\n\u001b[0;32m      4\u001b[0m \u001b[1;32mif\u001b[0m \u001b[0mdate\u001b[0m\u001b[1;33m*\u001b[0m\u001b[0mmonth\u001b[0m\u001b[1;33m==\u001b[0m\u001b[0myear\u001b[0m\u001b[1;33m:\u001b[0m\u001b[1;33m\u001b[0m\u001b[1;33m\u001b[0m\u001b[0m\n\u001b[0;32m      5\u001b[0m     \u001b[0mprint\u001b[0m \u001b[1;33m(\u001b[0m\u001b[1;34m\"Its a Magic Date\\n\"\u001b[0m\u001b[1;33m)\u001b[0m\u001b[1;33m\u001b[0m\u001b[1;33m\u001b[0m\u001b[0m\n",
      "\u001b[1;31mValueError\u001b[0m: invalid literal for int() with base 10: ''"
     ]
    }
   ],
   "source": [
    "date = int (input (\"Enter the Date: \\n\"))\n",
    "month = int (input (\"Enter the Month: \\n\"))\n",
    "year = int (input (\"Enter the year(only last 2 digit): \\n\"))\n",
    "if date*month==year:\n",
    "    print (\"Its a Magic Date\\n\")\n",
    "else:\n",
    "    print (\"Its not a Magic Date\\n\")"
   ]
  },
  {
   "cell_type": "markdown",
   "id": "dcd6a24d",
   "metadata": {},
   "source": [
    "# Question: 4"
   ]
  },
  {
   "cell_type": "code",
   "execution_count": 4,
   "id": "b7d124e3",
   "metadata": {},
   "outputs": [
    {
     "name": "stdout",
     "output_type": "stream",
     "text": [
      "Enter length of Rectangle 1: \n",
      "2\n",
      "Enter width of Rectangle 1: \n",
      "3\n",
      "Enter length of Rectanlge 2: \n",
      "4\n",
      "Enter width of Rectangle 2: \n",
      "5\n",
      "Area of rectangle 2:  20  is greater\n"
     ]
    }
   ],
   "source": [
    "x = int(input(\"Enter length of Rectangle 1: \\n\"))\n",
    "y = int(input(\"Enter width of Rectangle 1: \\n\"))\n",
    "w = int(input(\"Enter length of Rectanlge 2: \\n\"))\n",
    "z = int(input(\"Enter width of Rectangle 2: \\n\"))\n",
    "\n",
    "area1 = x*y\n",
    "area2 = w*z\n",
    "\n",
    "if area1 > area2:\n",
    "    print(\"Area of rectangle 1: \", area1, \" is greater\")\n",
    "else:\n",
    "    print(\"Area of rectangle 2: \", area2, \" is greater\")\n",
    "    "
   ]
  },
  {
   "cell_type": "markdown",
   "id": "a4e0749b",
   "metadata": {},
   "source": [
    "# Question: 5"
   ]
  },
  {
   "cell_type": "code",
   "execution_count": 5,
   "id": "78e72100",
   "metadata": {},
   "outputs": [
    {
     "name": "stdout",
     "output_type": "stream",
     "text": [
      "Enter number of Books purchased: \n",
      "3\n",
      "Points earned:  30\n"
     ]
    }
   ],
   "source": [
    "x = int(input(\"Enter number of Books purchased: \\n\"))\n",
    "if x == 0:\n",
    "    print(\"Points earned: \", 0)\n",
    "if x == 1:\n",
    "    print(\"Points earned: \", 5)\n",
    "if x == 2:\n",
    "    print(\"Points earned: \", 15)\n",
    "if x == 3:\n",
    "    print(\"Points earned: \", 30)\n",
    "if x >= 4:\n",
    "    print(\"Points earned: \", 60)    "
   ]
  },
  {
   "cell_type": "markdown",
   "id": "d11c6bd8",
   "metadata": {},
   "source": [
    "# Question: 6"
   ]
  },
  {
   "cell_type": "code",
   "execution_count": 3,
   "id": "06db5065",
   "metadata": {},
   "outputs": [
    {
     "name": "stdout",
     "output_type": "stream",
     "text": [
      "Enter object's Weight: \n",
      "1\n",
      "\n",
      "Weight of object:  9.8 \n",
      "\n",
      "\n",
      "Object too light\n",
      "\n"
     ]
    }
   ],
   "source": [
    "mass = float(input(\"Enter object's Weight: \\n\"))\n",
    "weight = mass * 9.8\n",
    "print(\"\\nWeight of object: \", weight, \"\\n\")\n",
    "if weight > 1000:\n",
    "    print(\"\\nObject too heavy\\n\")\n",
    "elif weight < 10:\n",
    "    print(\"\\nObject too light\\n\")\n"
   ]
  },
  {
   "cell_type": "markdown",
   "id": "2ccabfa5",
   "metadata": {},
   "source": [
    "# Question: 7"
   ]
  },
  {
   "cell_type": "code",
   "execution_count": 6,
   "id": "7b235826",
   "metadata": {},
   "outputs": [
    {
     "name": "stdout",
     "output_type": "stream",
     "text": [
      "Enter number of seconds: \n",
      "894001\n",
      "Number of days in:  894001  seconds are:  10.347233796296296\n"
     ]
    }
   ],
   "source": [
    "x = int(input(\"Enter number of seconds: \\n\"))\n",
    "if x >= 86400:\n",
    "    days = x / 86400\n",
    "    print(\"Number of days in: \", x, \" seconds are: \", days)\n",
    "\n",
    "elif x < 86400 and x >= 3600:\n",
    "    hours = x / 3600\n",
    "    print(\"Number of hours in: \", x, \" seconds are: \", hours)\n",
    "\n",
    "elif x < 3600 and x >= 60:\n",
    "    minutes = x / 60\n",
    "    print(\"Number of minutes in: \", x, \" seconds are: \", minutes)\n",
    "    "
   ]
  },
  {
   "cell_type": "markdown",
   "id": "f66516b2",
   "metadata": {},
   "source": [
    "# Question: 8"
   ]
  },
  {
   "cell_type": "code",
   "execution_count": 2,
   "id": "876d890e",
   "metadata": {},
   "outputs": [
    {
     "name": "stdout",
     "output_type": "stream",
     "text": [
      "First no:  29\n",
      "Second no:  43\n",
      "Enter the sum: 62\n",
      "False\n"
     ]
    }
   ],
   "source": [
    "import random\n",
    "y =  random.randint(10, 50)\n",
    "z =  random.randint(10,50)\n",
    "print (\"First no: \",y)\n",
    "print (\"Second no: \",z)\n",
    "x = int(input(\"Enter the sum: \"))\n",
    "a=y+z\n",
    "if x==a:\n",
    "    print(\"True\")\n",
    "else:\n",
    "    print(\"False\")"
   ]
  },
  {
   "cell_type": "markdown",
   "id": "9654ce25",
   "metadata": {},
   "source": [
    "# Question: 9"
   ]
  },
  {
   "cell_type": "code",
   "execution_count": 5,
   "id": "88d5c9e8",
   "metadata": {},
   "outputs": [
    {
     "name": "stdout",
     "output_type": "stream",
     "text": [
      "Enter the quantity: 0\n",
      "Quantity should be greater then zero\n",
      "\n"
     ]
    }
   ],
   "source": [
    "x = int(input(\"Enter the quantity: \"))\n",
    "if x>0:\n",
    "    if x>=10 and x<=19:\n",
    "        print(\"20% Discount Offered: \",(99/100)*20,\"$\")\n",
    "    elif x>=20 and x<=49:\n",
    "        print(\"30% Discount Offered: \",(99/100)*30,\"$\")\n",
    "    elif x>=50 and x<=99:\n",
    "        print(\"40% Discount Offered: \",(99/100)*40,\"$\")\n",
    "    elif x>=100:\n",
    "        print((99/100)*50)\n",
    "    else:\n",
    "        print(\"No Discount Offered\\n\")\n",
    "else:\n",
    "    print(\"Quantity should be greater then zero\\n\")"
   ]
  },
  {
   "cell_type": "markdown",
   "id": "9f5ccf5c",
   "metadata": {},
   "source": [
    "# Question: 10"
   ]
  },
  {
   "cell_type": "code",
   "execution_count": 7,
   "id": "1c573915",
   "metadata": {},
   "outputs": [
    {
     "name": "stdout",
     "output_type": "stream",
     "text": [
      "Enter the no of checks: 5\n"
     ]
    }
   ],
   "source": [
    "x= int(input(\"Enter the no of checks: \"))\n"
   ]
  },
  {
   "cell_type": "markdown",
   "id": "d9d2db5d",
   "metadata": {},
   "source": [
    "# Question: 11"
   ]
  },
  {
   "cell_type": "code",
   "execution_count": 14,
   "id": "5c37bc95",
   "metadata": {},
   "outputs": [
    {
     "name": "stdout",
     "output_type": "stream",
     "text": [
      "Press 1. Calculate the Area of a Circle\n",
      "\n",
      "Press 2. Calculate the Area of a Rectangle\n",
      "\n",
      "Press 3. Calculate the Area of a Triangle\n",
      "\n",
      "Press 4. To Close\n",
      "Enetr the option: 3\n",
      "Enter the base: 2\n",
      "Enter the height: 6\n",
      "The Area of triangle is:  6.0\n"
     ]
    }
   ],
   "source": [
    "print(\"Press 1. Calculate the Area of a Circle\\n\")\n",
    "print(\"Press 2. Calculate the Area of a Rectangle\\n\")\n",
    "print(\"Press 3. Calculate the Area of a Triangle\\n\")\n",
    "print(\"Press 4. Quit\")\n",
    "x = int (input(\"Enter your choice (1 – 4): \"))\n",
    "if x==1:\n",
    "    radius=float(input(\"Enter the radius: \"))\n",
    "    print(\"The radius of circle is: \",(3.14*radius*radius))\n",
    "elif x==2:\n",
    "    length=float(input(\"Enter the length: \"))\n",
    "    width=float(input(\"Enter the width: \"))\n",
    "    print(\"The Area of rectengle: \",(length*width))\n",
    "elif x==3:\n",
    "    base=float(input(\"Enter the base: \"))\n",
    "    height=float(input(\"Enter the height: \"))\n",
    "    print(\"The Area of triangle is: \",((1/2)*base*height))\n",
    "elif x==4:\n",
    "    print(\"The program is end\")\n",
    "else:\n",
    "    print(\"You Entered wrong input\")"
   ]
  },
  {
   "cell_type": "markdown",
   "id": "c1369cdb",
   "metadata": {},
   "source": []
  },
  {
   "cell_type": "code",
   "execution_count": null,
   "id": "2c04d3b8",
   "metadata": {},
   "outputs": [],
   "source": []
  },
  {
   "cell_type": "code",
   "execution_count": null,
   "id": "d32a360c",
   "metadata": {},
   "outputs": [],
   "source": []
  }
 ],
 "metadata": {
  "kernelspec": {
   "display_name": "Python 3 (ipykernel)",
   "language": "python",
   "name": "python3"
  },
  "language_info": {
   "codemirror_mode": {
    "name": "ipython",
    "version": 3
   },
   "file_extension": ".py",
   "mimetype": "text/x-python",
   "name": "python",
   "nbconvert_exporter": "python",
   "pygments_lexer": "ipython3",
   "version": "3.9.7"
  }
 },
 "nbformat": 4,
 "nbformat_minor": 5
}
