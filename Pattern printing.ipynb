{
 "cells": [
  {
   "cell_type": "code",
   "execution_count": null,
   "id": "6432f3d9",
   "metadata": {},
   "outputs": [],
   "source": []
  },
  {
   "cell_type": "code",
   "execution_count": 8,
   "id": "cd3a187f",
   "metadata": {},
   "outputs": [
    {
     "name": "stdout",
     "output_type": "stream",
     "text": [
      "please enter the number to print patteren: 5\n",
      "A \n",
      "\n",
      "B C \n",
      "\n",
      "D E F \n",
      "\n",
      "G H I J \n",
      "\n",
      "K L M N O \n",
      "\n"
     ]
    }
   ],
   "source": [
    "num = 65\n",
    "x = int(input(\"please enter the number to print patteren: \"))\n",
    "for i in range(0,x,1):\n",
    "    for j in range(0,i+1,1):\n",
    "        print(chr(num),end=\" \")\n",
    "        num = num +1\n",
    "    print(\"\\n\")"
   ]
  },
  {
   "cell_type": "code",
   "execution_count": 22,
   "id": "27681dd0",
   "metadata": {},
   "outputs": [
    {
     "name": "stdout",
     "output_type": "stream",
     "text": [
      "please enter the number to print patteren: 6\n",
      "A \n",
      "\n",
      "B B \n",
      "\n",
      "C C C \n",
      "\n",
      "D D D D \n",
      "\n",
      "E E E E E \n",
      "\n",
      "F F F F F F \n",
      "\n"
     ]
    }
   ],
   "source": [
    "num = 65\n",
    "x = int(input(\"please enter the number to print patteren: \"))\n",
    "for i in range(0,x):\n",
    "    for j in range(0,i+1):\n",
    "        print(chr(num),end=\" \")\n",
    "    print(\"\\n\")\n",
    "    num = num+1"
   ]
  },
  {
   "cell_type": "code",
   "execution_count": 28,
   "id": "b57818ba",
   "metadata": {},
   "outputs": [
    {
     "name": "stdout",
     "output_type": "stream",
     "text": [
      "    * * * * * \n",
      "\n",
      "    * * * * \n",
      "\n",
      "    * * * \n",
      "\n",
      "    * * \n",
      "\n",
      "    * \n",
      "\n"
     ]
    }
   ],
   "source": [
    "for i in range(5,0,-1):\n",
    "    for j in range(0,2):\n",
    "        print(\" \",end=\" \")\n",
    "    for k in range(0,i):\n",
    "        print(\"*\",end=\" \")\n",
    "    print(\"\\n\")"
   ]
  },
  {
   "cell_type": "code",
   "execution_count": null,
   "id": "460cf79f",
   "metadata": {},
   "outputs": [],
   "source": []
  }
 ],
 "metadata": {
  "kernelspec": {
   "display_name": "Python 3 (ipykernel)",
   "language": "python",
   "name": "python3"
  },
  "language_info": {
   "codemirror_mode": {
    "name": "ipython",
    "version": 3
   },
   "file_extension": ".py",
   "mimetype": "text/x-python",
   "name": "python",
   "nbconvert_exporter": "python",
   "pygments_lexer": "ipython3",
   "version": "3.9.7"
  }
 },
 "nbformat": 4,
 "nbformat_minor": 5
}
